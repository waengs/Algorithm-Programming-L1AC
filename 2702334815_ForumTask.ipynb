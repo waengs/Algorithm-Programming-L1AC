{
 "cells": [
  {
   "cell_type": "code",
   "execution_count": 4,
   "metadata": {},
   "outputs": [
    {
     "name": "stdout",
     "output_type": "stream",
     "text": [
      "Student Name: Lloyd\n",
      "Homework Scores: [90.0, 97.0, 75.0, 92.0]\n",
      "Quiz Scores: [88.0, 40.0, 94.0]\n",
      "Test Scores: [75.0, 90.0]\n",
      "\n",
      "Student Name: Alice\n",
      "Homework Scores: [100.0, 92.0, 98.0, 100.0]\n",
      "Quiz Scores: [82.0, 83.0, 91.0]\n",
      "Test Scores: [89.0, 97.0]\n",
      "\n",
      "Student Name: Tyler\n",
      "Homework Scores: [0.0, 87.0, 75.0, 22.0]\n",
      "Quiz Scores: [0.0, 75.0, 78.0]\n",
      "Test Scores: [100.0, 100.0]\n",
      "\n",
      "Class Average: 83.87\n",
      "Class Letter Grade: B\n"
     ]
    }
   ],
   "source": [
    "lloyd = {\n",
    "    \"name\": \"Lloyd\",\n",
    "    \"homework\": [90.0, 97.0, 75.0, 92.0],\n",
    "    \"quizzes\": [88.0, 40.0, 94.0],\n",
    "    \"tests\": [75.0, 90.0]\n",
    "}\n",
    "\n",
    "alice = {\n",
    "    \"name\": \"Alice\",\n",
    "    \"homework\": [100.0, 92.0, 98.0, 100.0],\n",
    "    \"quizzes\": [82.0, 83.0, 91.0],\n",
    "    \"tests\": [89.0, 97.0]\n",
    "}\n",
    "\n",
    "tyler = {\n",
    "    \"name\": \"Tyler\",\n",
    "    \"homework\": [0.0, 87.0, 75.0, 22.0],\n",
    "    \"quizzes\": [0.0, 75.0, 78.0],\n",
    "    \"tests\": [100.0, 100.0]\n",
    "}\n",
    "\n",
    "students = [lloyd, alice, tyler]\n",
    "\n",
    "for student in students:\n",
    "    print(\"Student Name:\", student[\"name\"])\n",
    "    print(\"Homework Scores:\", student[\"homework\"])\n",
    "    print(\"Quiz Scores:\", student[\"quizzes\"])\n",
    "    print(\"Test Scores:\", student[\"tests\"])\n",
    "    print()\n",
    "\n",
    "def average(numbers):\n",
    "    total = sum(numbers)\n",
    "    total = float(total)\n",
    "    avg = total / len(numbers)\n",
    "    return avg\n",
    "\n",
    "def get_average(student):\n",
    "    homework = average(student[\"homework\"])\n",
    "    quizzes = average(student[\"quizzes\"])\n",
    "    tests = average(student[\"tests\"])\n",
    "    return (homework * 0.10 + quizzes * 0.30 + tests * 0.60)\n",
    "\n",
    "def get_letter_grade(score):\n",
    "    if score >= 90:\n",
    "        return \"A\"\n",
    "    elif score >= 80:\n",
    "        return \"B\"\n",
    "    elif score >= 70:\n",
    "        return \"C\"\n",
    "    elif score >= 60:\n",
    "        return \"D\"\n",
    "    else:\n",
    "        return \"F\"\n",
    "\n",
    "def get_class_average(students):\n",
    "    results = []\n",
    "    for student in students:\n",
    "        student_average = get_average(student)\n",
    "        results.append(student_average)\n",
    "    class_average = average(results)\n",
    "    return class_average\n",
    "\n",
    "class_average = get_class_average(students)\n",
    "class_letter_grade = get_letter_grade(class_average)\n",
    "print(\"Class Average:\", f\"{class_average:.2f}\")\n",
    "print(\"Class Letter Grade:\", class_letter_grade)\n"
   ]
  },
  {
   "cell_type": "code",
   "execution_count": 5,
   "metadata": {},
   "outputs": [
    {
     "name": "stdout",
     "output_type": "stream",
     "text": [
      "Enter a course number: PHY 2048\n",
      "The course details are:\n",
      "Course Name: General Physics I\n",
      "Instructor: G. Pradhan\n",
      "Class Times: TR 5:00pm–6:15pm\n"
     ]
    }
   ],
   "source": [
    "course_names = {\n",
    "    \"COP 2510\": \"Programming Concepts\",\n",
    "    \"EGN 3000L\": \"Foundations of Engineering Lab\",\n",
    "    \"MAC 2281\": \"Calculus I\",\n",
    "    \"MUH 3016\": \"Survey of Jazz\",\n",
    "    \"PHY 2048\": \"General Physics I\"\n",
    "}\n",
    "\n",
    "instructors = {\n",
    "    \"COP 2510\": \"Z. Beasley\",\n",
    "    \"EGN 3000L\": \"J. Anderson\",\n",
    "    \"MAC 2281\": \"A. Makaryus\",\n",
    "    \"MUH 3016\": \"A. Wilkins\",\n",
    "    \"PHY 2048\": \"G. Pradhan\"\n",
    "}\n",
    "\n",
    "class_times = {\n",
    "    \"COP 2510\": \"MW 12:30pm–1:45pm\",\n",
    "    \"EGN 3000L\": \"TR 11:00am–12:15pm\",\n",
    "    \"MAC 2281\": \"MW 9:30am–10:45am\",\n",
    "    \"MUH 3016\": \"online asynchronous\",\n",
    "    \"PHY 2048\": \"TR 5:00pm–6:15pm\"\n",
    "}\n",
    "\n",
    "course_number = input(\"Enter a course number: \")\n",
    "\n",
    "if course_number in course_names:\n",
    "    print(\"Enter a course number:\", course_number)\n",
    "    print(\"The course details are:\")\n",
    "    print(\"Course Name:\", course_names[course_number])\n",
    "    print(\"Instructor:\", instructors[course_number])\n",
    "    print(\"Class Times:\", class_times[course_number])\n",
    "else:\n",
    "    print(f\"{course_number} is an invalid course number.\")\n"
   ]
  },
  {
   "cell_type": "code",
   "execution_count": 7,
   "metadata": {},
   "outputs": [
    {
     "name": "stdout",
     "output_type": "stream",
     "text": [
      "The total sales is: $27.00\n",
      "The minimum sale amount was: $3.00\n",
      "The maximum sale amount was: $4.00\n"
     ]
    }
   ],
   "source": [
    "days_of_week = ('Sunday', 'Monday', 'Tuesday', 'Wednesday', 'Thursday', 'Friday', 'Saturday')\n",
    "\n",
    "sales = []\n",
    "\n",
    "for day in days_of_week:\n",
    "    while True:\n",
    "        try:\n",
    "            sale = float(input(f\"Enter the sales for {day}: $\"))\n",
    "            if sale >= 0:\n",
    "                sales.append(sale)\n",
    "                break\n",
    "            else:\n",
    "                print(\"Input was invalid. Please enter a positive value.\")\n",
    "        except ValueError:\n",
    "            print(\"Input was invalid. Please enter a valid numeric value.\")\n",
    "\n",
    "total_sales = sum(sales)\n",
    "min_sale = min(sales)\n",
    "max_sale = max(sales)\n",
    "\n",
    "formatted_total_sales = f\"${total_sales:,.2f}\"\n",
    "formatted_min_sale = f\"${min_sale:,.2f}\"\n",
    "formatted_max_sale = f\"${max_sale:,.2f}\"\n",
    "\n",
    "print(\"The total sales is:\", formatted_total_sales)\n",
    "print(\"The minimum sale amount was:\", formatted_min_sale)\n",
    "print(\"The maximum sale amount was:\", formatted_max_sale)\n"
   ]
  },
  {
   "cell_type": "code",
   "execution_count": 5,
   "metadata": {},
   "outputs": [
    {
     "name": "stdout",
     "output_type": "stream",
     "text": [
      "..   .-.. --- ...- .   -.-- --- ..- \n"
     ]
    }
   ],
   "source": [
    "user_input = input(\"Enter the string to be converted to Morse code: \")\n",
    "morse_code_dict = {\n",
    "    'A': '.-', 'B': '-...', 'C': '-.-.', 'D': '-..', 'E': '.',\n",
    "    'F': '..-.', 'G': '--.', 'H': '....', 'I': '..', 'J': '.---',\n",
    "    'K': '-.-', 'L': '.-..', 'M': '--', 'N': '-.', 'O': '---',\n",
    "    'P': '.--.', 'Q': '--.-', 'R': '.-.', 'S': '...', 'T': '-',\n",
    "    'U': '..-', 'V': '...-', 'W': '.--', 'X': '-..-', 'Y': '-.--',\n",
    "    'Z': '--..',\n",
    "    '1': '.----', '2': '..---', '3': '...--', '4': '....-', '5': '.....',\n",
    "    '6': '-....', '7': '--...', '8': '---..', '9': '----.', '0': '-----',\n",
    "    ' ': ' ', ',':\"--..--\", '.':'.-.-.-'\n",
    "}\n",
    "\n",
    "def text_to_morse(text):\n",
    "    morse_code = ''\n",
    "    for char in text:\n",
    "        char = char.upper()  \n",
    "        if char in morse_code_dict:\n",
    "            morse_code += morse_code_dict[char] + ' '\n",
    "        else:\n",
    "            morse_code += char + ' ' \n",
    "    \n",
    "    return morse_code\n",
    "\n",
    "morse_result = text_to_morse(user_input)\n",
    "\n",
    "print(morse_result)"
   ]
  }
 ],
 "metadata": {
  "kernelspec": {
   "display_name": "Python 3",
   "language": "python",
   "name": "python3"
  },
  "language_info": {
   "codemirror_mode": {
    "name": "ipython",
    "version": 3
   },
   "file_extension": ".py",
   "mimetype": "text/x-python",
   "name": "python",
   "nbconvert_exporter": "python",
   "pygments_lexer": "ipython3",
   "version": "3.11.5"
  }
 },
 "nbformat": 4,
 "nbformat_minor": 2
}
